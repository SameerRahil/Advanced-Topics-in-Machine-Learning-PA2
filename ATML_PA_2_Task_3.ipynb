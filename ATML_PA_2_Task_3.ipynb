{
  "nbformat": 4,
  "nbformat_minor": 0,
  "metadata": {
    "colab": {
      "provenance": [],
      "gpuType": "T4"
    },
    "kernelspec": {
      "name": "python3",
      "display_name": "Python 3"
    },
    "language_info": {
      "name": "python"
    },
    "accelerator": "GPU"
  },
  "cells": [
    {
      "cell_type": "markdown",
      "source": [
        "# Task 3"
      ],
      "metadata": {
        "id": "1SwU3MZrSgYP"
      }
    },
    {
      "cell_type": "markdown",
      "source": [
        "## Configuration"
      ],
      "metadata": {
        "id": "PwG5ReJ9Snah"
      }
    },
    {
      "cell_type": "markdown",
      "source": [
        "##Imports"
      ],
      "metadata": {
        "id": "stT_1ZkoSp4-"
      }
    },
    {
      "cell_type": "code",
      "source": [
        "!pip install git+https://github.com/openai/CLIP.git #Installing clip library"
      ],
      "metadata": {
        "colab": {
          "base_uri": "https://localhost:8080/"
        },
        "id": "-CYmgqa-elB-",
        "outputId": "8d77c298-4fa3-4b45-c032-94df837c833f"
      },
      "execution_count": 7,
      "outputs": [
        {
          "output_type": "stream",
          "name": "stdout",
          "text": [
            "Collecting git+https://github.com/openai/CLIP.git\n",
            "  Cloning https://github.com/openai/CLIP.git to /tmp/pip-req-build-vnuedbnd\n",
            "  Running command git clone --filter=blob:none --quiet https://github.com/openai/CLIP.git /tmp/pip-req-build-vnuedbnd\n",
            "  Resolved https://github.com/openai/CLIP.git to commit dcba3cb2e2827b402d2701e7e1c7d9fed8a20ef1\n",
            "  Preparing metadata (setup.py) ... \u001b[?25l\u001b[?25hdone\n",
            "Requirement already satisfied: ftfy in /usr/local/lib/python3.12/dist-packages (from clip==1.0) (6.3.1)\n",
            "Requirement already satisfied: packaging in /usr/local/lib/python3.12/dist-packages (from clip==1.0) (25.0)\n",
            "Requirement already satisfied: regex in /usr/local/lib/python3.12/dist-packages (from clip==1.0) (2024.11.6)\n",
            "Requirement already satisfied: tqdm in /usr/local/lib/python3.12/dist-packages (from clip==1.0) (4.67.1)\n",
            "Requirement already satisfied: torch in /usr/local/lib/python3.12/dist-packages (from clip==1.0) (2.8.0+cu126)\n",
            "Requirement already satisfied: torchvision in /usr/local/lib/python3.12/dist-packages (from clip==1.0) (0.23.0+cu126)\n",
            "Requirement already satisfied: wcwidth in /usr/local/lib/python3.12/dist-packages (from ftfy->clip==1.0) (0.2.14)\n",
            "Requirement already satisfied: filelock in /usr/local/lib/python3.12/dist-packages (from torch->clip==1.0) (3.20.0)\n",
            "Requirement already satisfied: typing-extensions>=4.10.0 in /usr/local/lib/python3.12/dist-packages (from torch->clip==1.0) (4.15.0)\n",
            "Requirement already satisfied: setuptools in /usr/local/lib/python3.12/dist-packages (from torch->clip==1.0) (75.2.0)\n",
            "Requirement already satisfied: sympy>=1.13.3 in /usr/local/lib/python3.12/dist-packages (from torch->clip==1.0) (1.13.3)\n",
            "Requirement already satisfied: networkx in /usr/local/lib/python3.12/dist-packages (from torch->clip==1.0) (3.5)\n",
            "Requirement already satisfied: jinja2 in /usr/local/lib/python3.12/dist-packages (from torch->clip==1.0) (3.1.6)\n",
            "Requirement already satisfied: fsspec in /usr/local/lib/python3.12/dist-packages (from torch->clip==1.0) (2025.3.0)\n",
            "Requirement already satisfied: nvidia-cuda-nvrtc-cu12==12.6.77 in /usr/local/lib/python3.12/dist-packages (from torch->clip==1.0) (12.6.77)\n",
            "Requirement already satisfied: nvidia-cuda-runtime-cu12==12.6.77 in /usr/local/lib/python3.12/dist-packages (from torch->clip==1.0) (12.6.77)\n",
            "Requirement already satisfied: nvidia-cuda-cupti-cu12==12.6.80 in /usr/local/lib/python3.12/dist-packages (from torch->clip==1.0) (12.6.80)\n",
            "Requirement already satisfied: nvidia-cudnn-cu12==9.10.2.21 in /usr/local/lib/python3.12/dist-packages (from torch->clip==1.0) (9.10.2.21)\n",
            "Requirement already satisfied: nvidia-cublas-cu12==12.6.4.1 in /usr/local/lib/python3.12/dist-packages (from torch->clip==1.0) (12.6.4.1)\n",
            "Requirement already satisfied: nvidia-cufft-cu12==11.3.0.4 in /usr/local/lib/python3.12/dist-packages (from torch->clip==1.0) (11.3.0.4)\n",
            "Requirement already satisfied: nvidia-curand-cu12==10.3.7.77 in /usr/local/lib/python3.12/dist-packages (from torch->clip==1.0) (10.3.7.77)\n",
            "Requirement already satisfied: nvidia-cusolver-cu12==11.7.1.2 in /usr/local/lib/python3.12/dist-packages (from torch->clip==1.0) (11.7.1.2)\n",
            "Requirement already satisfied: nvidia-cusparse-cu12==12.5.4.2 in /usr/local/lib/python3.12/dist-packages (from torch->clip==1.0) (12.5.4.2)\n",
            "Requirement already satisfied: nvidia-cusparselt-cu12==0.7.1 in /usr/local/lib/python3.12/dist-packages (from torch->clip==1.0) (0.7.1)\n",
            "Requirement already satisfied: nvidia-nccl-cu12==2.27.3 in /usr/local/lib/python3.12/dist-packages (from torch->clip==1.0) (2.27.3)\n",
            "Requirement already satisfied: nvidia-nvtx-cu12==12.6.77 in /usr/local/lib/python3.12/dist-packages (from torch->clip==1.0) (12.6.77)\n",
            "Requirement already satisfied: nvidia-nvjitlink-cu12==12.6.85 in /usr/local/lib/python3.12/dist-packages (from torch->clip==1.0) (12.6.85)\n",
            "Requirement already satisfied: nvidia-cufile-cu12==1.11.1.6 in /usr/local/lib/python3.12/dist-packages (from torch->clip==1.0) (1.11.1.6)\n",
            "Requirement already satisfied: triton==3.4.0 in /usr/local/lib/python3.12/dist-packages (from torch->clip==1.0) (3.4.0)\n",
            "Requirement already satisfied: numpy in /usr/local/lib/python3.12/dist-packages (from torchvision->clip==1.0) (2.0.2)\n",
            "Requirement already satisfied: pillow!=8.3.*,>=5.3.0 in /usr/local/lib/python3.12/dist-packages (from torchvision->clip==1.0) (11.3.0)\n",
            "Requirement already satisfied: mpmath<1.4,>=1.1.0 in /usr/local/lib/python3.12/dist-packages (from sympy>=1.13.3->torch->clip==1.0) (1.3.0)\n",
            "Requirement already satisfied: MarkupSafe>=2.0 in /usr/local/lib/python3.12/dist-packages (from jinja2->torch->clip==1.0) (3.0.3)\n"
          ]
        }
      ]
    },
    {
      "cell_type": "code",
      "source": [
        "import clip\n",
        "from PIL import Image, ImageFilter, ImageOps\n",
        "import numpy as np      # is ke ialwa ghar nahi chale ga\n",
        "import matplotlib.pyplot as plt\n",
        "import matplotlib\n",
        "import cv2\n",
        "import math    # small math helpers (ceil waghra)\n",
        "import random           # reproducible shuffling\n",
        "import copy          # deepcopy models for best chjkpnts\n",
        "import os\n",
        "import time\n",
        "\n",
        "import torch\n",
        "import torch.nn as nn\n",
        "import torch.nn.functional as F\n",
        "import torch.optim as optim     # optimizers\n",
        "from torch.amp import autocast\n",
        "from torch.utils.data import Subset, DataLoader, ConcatDataset     # batched loading\n",
        "from torchvision import datasets, transforms, models  #datasets + aug\n",
        "from torchvision.transforms import functional as TF   # low level transforms\n",
        "from sklearn.decomposition import PCA\n",
        "from sklearn.manifold import TSNE\n",
        "from collections import defaultdict\n",
        "\n",
        "matplotlib.rcParams.update({\n",
        "    \"figure.dpi\": 100,\n",
        "    \"savefig.dpi\": 600,\n",
        "    \"font.family\": \"DejaVu Serif\",   # safe default\n",
        "    \"axes.titlesize\": 16,\n",
        "    \"axes.labelsize\": 14,\n",
        "    \"xtick.labelsize\": 12,\n",
        "    \"ytick.labelsize\": 12,\n",
        "    \"legend.fontsize\": 12,\n",
        "    \"axes.linewidth\": 1.2\n",
        "})\n",
        "\n",
        "# # AMP compatibility shim (PyTorch <2.0 uses torch.cuda.amp.autocast; >=2.0 has torch.amp.autocast)\n",
        "# use_amp = torch.cuda.is_available()\n",
        "\n",
        "# try:\n",
        "#     from torch.amp import autocast as _autocast_new  # PyTorch >= 2.0\n",
        "#     def autocast_cuda():\n",
        "#         # new API: torch.amp.autocast(\"cuda\", dtype=...)\n",
        "#         return _autocast_new(\"cuda\", dtype=torch.float16, enabled=use_amp)\n",
        "# except Exception:\n",
        "#     from torch.cuda.amp import autocast as _autocast_old  # legacy API\n",
        "#     def autocast_cuda():\n",
        "#         # old API: torch.cuda.amp.autocast(enabled=..., dtype=...)\n",
        "#         return _autocast_old(enabled=use_amp, dtype=torch.float16)\n",
        "# SEED = config.seed\n",
        "# random.seed(SEED)\n",
        "# np.random.seed(SEED)\n",
        "# torch.manual_seed(SEED)\n",
        "# torch.cuda.manual_seed_all(SEED)\n",
        "# torch.backends.cudnn.deterministic = True   # deterministic convs(slower)\n",
        "# torch.backends.cudnn.benchmark = False      # disable autotuner for determinnsm"
      ],
      "metadata": {
        "id": "835Lj2bqeuKm"
      },
      "execution_count": 8,
      "outputs": []
    },
    {
      "cell_type": "markdown",
      "source": [
        "##Model (CLIP ViT-B/32)"
      ],
      "metadata": {
        "id": "9qb-jUrRS1EJ"
      }
    },
    {
      "cell_type": "code",
      "source": [
        "device = \"cuda\" if torch.cuda.is_available() else \"cpu\"\n",
        "clip32, clipPreprocess = clip.load(\"ViT-B/32\", device=device)\n",
        "\n",
        "def count_params(m):\n",
        "    return sum( p.numel() for p in m.parameters())/1e6\n",
        "\n",
        "print(f\"CLIP ViT-B/32 parameters: { count_params(clip32):.1f}M\")"
      ],
      "metadata": {
        "colab": {
          "base_uri": "https://localhost:8080/"
        },
        "id": "MhL2OgPZy0Xh",
        "outputId": "eca7a57d-fbfc-457d-d5da-10933edabeda"
      },
      "execution_count": 9,
      "outputs": [
        {
          "output_type": "stream",
          "name": "stdout",
          "text": [
            "CLIP ViT-B/32 parameters: 151.3M\n"
          ]
        }
      ]
    },
    {
      "cell_type": "code",
      "source": [
        "@torch.no_grad()\n",
        "def evaluate_clip(model, loader, classnames, template=\"a photo of a {}\"):\n",
        "    model.eval()\n",
        "    total, correct = 0, 0\n",
        "    class_correct = [0 for _ in classnames]\n",
        "    class_total = [0 for _ in classnames]\n",
        "\n",
        "    texts = [template.format(c) for c in classnames]\n",
        "    text_tokens = clip.tokenize(texts).to(device)\n",
        "    text_features = model.encode_text(text_tokens).float()\n",
        "    text_features /= text_features.norm(dim=-1, keepdim=True)\n",
        "\n",
        "    for imgs, labels in loader:\n",
        "        imgs = imgs.to(device)\n",
        "        labels = labels.to(device)\n",
        "\n",
        "        image_features = model.encode_image(imgs).float()\n",
        "        image_features /= image_features.norm(dim=-1, keepdim=True)\n",
        "\n",
        "        logits = image_features @ text_features.T\n",
        "        preds = logits.argmax(dim=1)\n",
        "\n",
        "        total += labels.size(0)\n",
        "        correct += (preds == labels).sum().item()\n",
        "\n",
        "        for l, p in zip(labels, preds):\n",
        "            li = int(l.item())\n",
        "            class_total[li] += 1\n",
        "            if li == int(p.item()):\n",
        "                class_correct[li] += 1\n",
        "\n",
        "    overall_acc = correct / total if total else 0.0\n",
        "    per_class_acc = [ (c/t) if t > 0 else 0.0 for c, t in zip(class_correct, class_total) ]\n",
        "    return overall_acc, per_class_acc"
      ],
      "metadata": {
        "id": "pZ3MZekPzjyx"
      },
      "execution_count": 10,
      "outputs": []
    },
    {
      "cell_type": "markdown",
      "source": [
        "## Dataset (PACS)"
      ],
      "metadata": {
        "id": "Wn4y80r6SvDG"
      }
    },
    {
      "cell_type": "code",
      "source": [
        "# DONT RUN IF YOU CAN MOUNT DRIVE PLZ YOUR TIME IS WORTH SOMETHING\n",
        "# Run this command if havent unzipped PACS, make sure to upload the PACS zip to colab\n",
        "# !unzip PACS.zip -d pacs_data"
      ],
      "metadata": {
        "id": "oQOJFG8Mc4CD"
      },
      "execution_count": 11,
      "outputs": []
    },
    {
      "cell_type": "code",
      "source": [
        "#Also, if you dont want to upload to colab repeatedly just mount drive\n",
        "if not os.path.exists(\"/content/pacs_data\"):\n",
        "    from google.colab import drive\n",
        "    drive.mount('/content/drive')\n",
        "    print(\"Extracting PACS dataset...\")\n",
        "    !unzip -q /content/drive/MyDrive/PACS.zip -d /content/pacs_data\n",
        "else:\n",
        "    print(\"PACS dataset already exists, skipping unzip.\")"
      ],
      "metadata": {
        "colab": {
          "base_uri": "https://localhost:8080/"
        },
        "id": "6NZkh96AI1Im",
        "outputId": "dbfe4c6f-e3e2-4a7d-e461-813784668842"
      },
      "execution_count": 12,
      "outputs": [
        {
          "output_type": "stream",
          "name": "stdout",
          "text": [
            "Mounted at /content/drive\n",
            "Extracting PACS dataset...\n"
          ]
        }
      ]
    },
    {
      "cell_type": "code",
      "source": [
        "# # define transforms\n",
        "# pacs_transform = transforms.Compose([\n",
        "#     transforms.Resize((224, 224)),\n",
        "#     transforms.ToTensor(),\n",
        "#     transforms.Normalize(mean=[0.5, 0.5, 0.5],\n",
        "#                          std=[0.5, 0.5, 0.5])\n",
        "# ])\n",
        "\n",
        "# load a specific domain\n",
        "def get_pacs_domain(root, domain, preprocess, batch_size=32, shuffle=True):\n",
        "    domain_path = os.path.join(root, domain)\n",
        "    dataset = datasets.ImageFolder(domain_path, transform=preprocess)\n",
        "    loader = DataLoader(dataset, batch_size=batch_size, shuffle=shuffle, num_workers=2, pin_memory=True)\n",
        "    return dataset, loader\n",
        "\n",
        "root = \"/content/pacs_data/kfold\""
      ],
      "metadata": {
        "id": "3I9IYr3ibMI8"
      },
      "execution_count": 13,
      "outputs": []
    },
    {
      "cell_type": "code",
      "source": [
        "# domains = [\"art_painting\", \"cartoon\", \"photo\", \"sketch\"]\n",
        "domains = [\"photo\", \"art_painting\", \"cartoon\", \"sketch\"]\n",
        "prompts = [\"a photo of a {}\", \"a painting of a {}\", \"a cartoon image of a {}\", \"a sketch of a {}\"]\n",
        "pacs_classes = [\"dog\", \"elephant\", \"giraffe\", \"guitar\", \"horse\", \"house\", \"person\"]\n",
        "\n",
        "clip_dsets, clip_loaders = {}, {}\n",
        "\n",
        "for d in domains:\n",
        "    clip_dsets[d], clip_loaders[d]   = get_pacs_domain(root, d, clipPreprocess, batch_size=64)"
      ],
      "metadata": {
        "id": "LNRRkRchLHWq"
      },
      "execution_count": 14,
      "outputs": []
    },
    {
      "cell_type": "markdown",
      "source": [
        "##CLIP Zero-Shot vs Fine-tuned"
      ],
      "metadata": {
        "id": "5z4_dlWB18MY"
      }
    },
    {
      "cell_type": "code",
      "source": [
        "#clip32 = clip32.float() #this needs to happen for some reason\n",
        "clip32 = clip32.eval().to(device)  # keep CLIP in its native (fp16 on CUDA) dtype\n"
      ],
      "metadata": {
        "id": "2MDjeBS51opI"
      },
      "execution_count": 15,
      "outputs": []
    },
    {
      "cell_type": "markdown",
      "source": [
        "###Training Linear Classifier on CLIP Embeddings on Source Domains (PAC)"
      ],
      "metadata": {
        "id": "GzCiawAK4DfD"
      }
    },
    {
      "cell_type": "code",
      "source": [
        "def extract_features(model, loader):\n",
        "    model.eval()\n",
        "    feats, labels = [], []\n",
        "    with torch.no_grad():\n",
        "        for imgs, lbls in loader:\n",
        "            imgs = imgs.to(device)\n",
        "            image_features = model.encode_image(imgs).float()\n",
        "            image_features /= image_features.norm(dim=-1, keepdim=True)\n",
        "            feats.append(image_features.cpu())\n",
        "            labels.append(lbls)\n",
        "    feats = torch.cat(feats)\n",
        "    labels = torch.cat(labels)\n",
        "    return feats, labels\n",
        "\n",
        "\n",
        "# Collect training features from P + A + C\n",
        "train_domains = [\"photo\", \"art_painting\", \"cartoon\"]\n",
        "train_feats, train_lbls = [], []\n",
        "for d in train_domains:\n",
        "    f, l = extract_features(clip32, clip_loaders[d])\n",
        "    train_feats.append(f)\n",
        "    train_lbls.append(l)\n",
        "train_feats = torch.cat(train_feats)\n",
        "train_lbls = torch.cat(train_lbls)\n",
        "\n",
        "# Extract test features from S (sketch)\n",
        "test_feats, test_lbls = extract_features(clip32, clip_loaders[\"sketch\"])\n",
        "\n",
        "print(f\"Train features: {train_feats.shape}, Test features: {test_feats.shape}\")"
      ],
      "metadata": {
        "colab": {
          "base_uri": "https://localhost:8080/"
        },
        "id": "WpWFATKC3_GX",
        "outputId": "4c0763fb-680a-4c78-864c-f3f906c41e33"
      },
      "execution_count": 16,
      "outputs": [
        {
          "output_type": "stream",
          "name": "stdout",
          "text": [
            "Train features: torch.Size([6062, 512]), Test features: torch.Size([3929, 512])\n"
          ]
        }
      ]
    },
    {
      "cell_type": "code",
      "source": [
        "# Linear classifier\n",
        "class LinearProbe(nn.Module):\n",
        "    def __init__(self, feat_dim, num_classes):\n",
        "        super().__init__()\n",
        "        self.fc = nn.Linear(feat_dim, num_classes)\n",
        "    def forward(self, x):\n",
        "        return self.fc(x)\n",
        "\n",
        "feat_dim = train_feats.shape[1]\n",
        "num_classes = len(pacs_classes)\n",
        "clf = LinearProbe(feat_dim, num_classes).to(device)"
      ],
      "metadata": {
        "id": "lzS2B8Ex4T9m"
      },
      "execution_count": 17,
      "outputs": []
    },
    {
      "cell_type": "code",
      "source": [
        "optimizer = optim.Adam(clf.parameters(), lr=1e-3, weight_decay=1e-4)\n",
        "criterion = nn.CrossEntropyLoss()\n",
        "\n",
        "train_dataset = torch.utils.data.TensorDataset(train_feats, train_lbls)\n",
        "train_loader = DataLoader(train_dataset, batch_size=128, shuffle=True)\n",
        "\n",
        "epochs = 10\n",
        "for epoch in range(epochs):\n",
        "    clf.train()\n",
        "    total, correct, loss_sum = 0, 0, 0.0\n",
        "    for x, y in train_loader:\n",
        "        x, y = x.to(device), y.to(device)\n",
        "        optimizer.zero_grad()\n",
        "        logits = clf(x)\n",
        "        loss = criterion(logits, y)\n",
        "        loss.backward()\n",
        "        optimizer.step()\n",
        "\n",
        "        preds = logits.argmax(1)\n",
        "        total += y.size(0)\n",
        "        correct += (preds == y).sum().item()\n",
        "        loss_sum += loss.item() * y.size(0)\n",
        "\n",
        "    train_acc = correct / total\n",
        "    avg_loss = loss_sum / total\n",
        "    print(f\"Epoch {epoch+1}/{epochs} | Train Acc: {train_acc*100:.2f}% | Loss: {avg_loss:.4f}\")"
      ],
      "metadata": {
        "colab": {
          "base_uri": "https://localhost:8080/"
        },
        "id": "Gk716Lii4gKe",
        "outputId": "56893da4-55b6-4141-f0c3-115b8a64f1a3"
      },
      "execution_count": 18,
      "outputs": [
        {
          "output_type": "stream",
          "name": "stdout",
          "text": [
            "Epoch 1/10 | Train Acc: 72.73% | Loss: 1.8354\n",
            "Epoch 2/10 | Train Acc: 93.63% | Loss: 1.6229\n",
            "Epoch 3/10 | Train Acc: 95.22% | Loss: 1.4357\n",
            "Epoch 4/10 | Train Acc: 96.07% | Loss: 1.2705\n",
            "Epoch 5/10 | Train Acc: 96.32% | Loss: 1.1261\n",
            "Epoch 6/10 | Train Acc: 96.72% | Loss: 1.0007\n",
            "Epoch 7/10 | Train Acc: 96.92% | Loss: 0.8928\n",
            "Epoch 8/10 | Train Acc: 96.93% | Loss: 0.8001\n",
            "Epoch 9/10 | Train Acc: 97.06% | Loss: 0.7209\n",
            "Epoch 10/10 | Train Acc: 97.16% | Loss: 0.6531\n"
          ]
        }
      ]
    },
    {
      "cell_type": "code",
      "source": [
        "def domain_size(loader):\n",
        "    return len(loader.dataset)\n",
        "\n",
        "def weighted_avg(acc_by_domain, loaders_dict, domains_list):\n",
        "    \"\"\"\n",
        "    acc_by_domain: dict[str -> accuracy]. Accuracies can be either in [0,1] or in [0,100].\n",
        "    We normalize them to [0,1] before averaging. Weights = number of samples per domain.\n",
        "    \"\"\"\n",
        "    # Gather accuracies in a list in domain order\n",
        "    vals = [acc_by_domain[d] for d in domains_list]\n",
        "    # Detect scale: if any value > 1, we assume percentages\n",
        "    use_pct = any(v > 1.0 for v in vals)\n",
        "    norm = (lambda v: v/100.0) if use_pct else (lambda v: v)\n",
        "\n",
        "    weights = [len(loaders_dict[d].dataset) for d in domains_list]\n",
        "    total_w = sum(weights)\n",
        "    if total_w == 0:\n",
        "        return 0.0\n",
        "    num = sum(norm(acc_by_domain[d]) * len(loaders_dict[d].dataset) for d in domains_list)\n",
        "    return num / total_w  # returns FRACTION in [0,1]\n",
        "\n",
        "@torch.no_grad()\n",
        "def evaluate_linear_probe(clf, model, loader):\n",
        "    model.eval(); clf.eval()\n",
        "    total, correct = 0, 0\n",
        "    for imgs, labels in loader:\n",
        "        imgs = imgs.to(device); labels = labels.to(device)\n",
        "        feats = model.encode_image(imgs).float()\n",
        "        feats /= feats.norm(dim=-1, keepdim=True)\n",
        "        logits = clf(feats)\n",
        "        preds = logits.argmax(1)\n",
        "        total += labels.size(0)\n",
        "        correct += (preds == labels).sum().item()\n",
        "    return correct / total if total else 0.0"
      ],
      "metadata": {
        "id": "aeOhoF90d0_r"
      },
      "execution_count": 19,
      "outputs": []
    },
    {
      "cell_type": "markdown",
      "source": [
        "###Comparison: CLIP Generic Prompt VS Domain-Specific Prompt VS Fine-tuned Linear Classifier (No Prompt)"
      ],
      "metadata": {
        "id": "cYlHlvUk4ohd"
      }
    },
    {
      "cell_type": "code",
      "source": [
        "print(\"=== Zero-Shot CLIP: Generic Prompt ===\")\n",
        "zs_generic = {}\n",
        "for d in domains:\n",
        "    acc, _ = evaluate_clip(clip32, clip_loaders[d], pacs_classes, template=\"a photo of a {}\")\n",
        "    zs_generic[d] = acc\n",
        "    print(f\"{d:<15} | Overall Accuracy: {acc*100:.2f}%\")\n",
        "\n",
        "src_domains = [\"photo\", \"art_painting\", \"cartoon\"]\n",
        "tgt_domain  = \"sketch\"\n",
        "\n",
        "print(f\"\\nWeighted SRC (generic): {weighted_avg(zs_generic, clip_loaders, src_domains)*100:.2f}%\")\n",
        "print(f\"TARGET (generic, sketch): {zs_generic[tgt_domain]*100:.2f}%\")\n",
        "\n",
        "print(\"\\n=== Zero-Shot CLIP: Domain-Specific Prompts ===\")\n",
        "domain_prompts = {\n",
        "    \"photo\": \"a photo of a {}\",\n",
        "    \"art_painting\": \"a painting of a {}\",\n",
        "    \"cartoon\": \"a cartoon image of a {}\",\n",
        "    \"sketch\": \"a sketch of a {}\",\n",
        "}\n",
        "zs_dom = {}\n",
        "for d in domains:\n",
        "    acc, _ = evaluate_clip(clip32, clip_loaders[d], pacs_classes, template=domain_prompts[d])\n",
        "    zs_dom[d] = acc\n",
        "    print(f\"{d:<15} | Prompt: '{domain_prompts[d]}' | Overall Accuracy: {acc*100:.2f}%\")\n",
        "\n",
        "print(f\"\\nWeighted SRC (dom-spec): {weighted_avg(zs_dom, clip_loaders, src_domains)*100:.2f}%\")\n",
        "print(f\"TARGET (dom-spec, sketch): {zs_dom[tgt_domain]*100:.2f}%\")"
      ],
      "metadata": {
        "colab": {
          "base_uri": "https://localhost:8080/"
        },
        "id": "WDO58SB8498D",
        "outputId": "341d31c1-a3fa-404b-84a1-0187740508a8"
      },
      "execution_count": 20,
      "outputs": [
        {
          "output_type": "stream",
          "name": "stdout",
          "text": [
            "=== Zero-Shot CLIP: Generic Prompt ===\n",
            "photo           | Overall Accuracy: 99.70%\n",
            "art_painting    | Overall Accuracy: 96.34%\n",
            "cartoon         | Overall Accuracy: 97.78%\n",
            "sketch          | Overall Accuracy: 84.91%\n",
            "\n",
            "Weighted SRC (generic): 97.82%\n",
            "TARGET (generic, sketch): 84.91%\n",
            "\n",
            "=== Zero-Shot CLIP: Domain-Specific Prompts ===\n",
            "photo           | Prompt: 'a photo of a {}' | Overall Accuracy: 99.70%\n",
            "art_painting    | Prompt: 'a painting of a {}' | Overall Accuracy: 95.56%\n",
            "cartoon         | Prompt: 'a cartoon image of a {}' | Overall Accuracy: 97.53%\n",
            "sketch          | Prompt: 'a sketch of a {}' | Overall Accuracy: 85.11%\n",
            "\n",
            "Weighted SRC (dom-spec): 97.46%\n",
            "TARGET (dom-spec, sketch): 85.11%\n"
          ]
        }
      ]
    },
    {
      "cell_type": "code",
      "source": [
        "print(\"\\n=== Linear Probe (CLIP features) ===\")\n",
        "lp = {}\n",
        "for d in domains:\n",
        "    acc = evaluate_linear_probe(clf, clip32, clip_loaders[d])\n",
        "    lp[d] = acc\n",
        "    print(f\"{d:<15} | Probe Accuracy: {acc*100:.2f}%\")\n",
        "\n",
        "print(f\"\\nWeighted SRC (probe): {weighted_avg(lp, clip_loaders, src_domains)*100:.2f}%\")\n",
        "print(f\"TARGET (probe, sketch): {lp[tgt_domain]*100:.2f}%\")\n"
      ],
      "metadata": {
        "colab": {
          "base_uri": "https://localhost:8080/"
        },
        "id": "eTwp9Jft47tz",
        "outputId": "38c50c55-12d2-4b7d-af0f-39b8159d1601"
      },
      "execution_count": 21,
      "outputs": [
        {
          "output_type": "stream",
          "name": "stdout",
          "text": [
            "\n",
            "=== Linear Probe (CLIP features) ===\n",
            "photo           | Probe Accuracy: 99.64%\n",
            "art_painting    | Probe Accuracy: 94.14%\n",
            "cartoon         | Probe Accuracy: 98.46%\n",
            "sketch          | Probe Accuracy: 84.47%\n",
            "\n",
            "Weighted SRC (probe): 97.33%\n",
            "TARGET (probe, sketch): 84.47%\n"
          ]
        }
      ]
    },
    {
      "cell_type": "markdown",
      "source": [
        "##Prompt Learning\n"
      ],
      "metadata": {
        "id": "f7GJqdu92CnE"
      }
    },
    {
      "cell_type": "markdown",
      "source": [
        "\n",
        "Domain adaptation scenario, as we have access to unlabelled target data. We will use source and target images to automate prompt engineering to create the optimal prompt vector."
      ],
      "metadata": {
        "id": "gBqGJJ_USv2s"
      }
    },
    {
      "cell_type": "code",
      "source": [
        "def _find_eot_pos(tokenized, eot_id=49407):\n",
        "    # tokenized: [N, 77] int32\n",
        "    # returns [N] long with the first index where token == eot_id\n",
        "    # robust vs argmax hacks\n",
        "    device = tokenized.device\n",
        "    is_eot = (tokenized == eot_id)\n",
        "    # if multiple eots, take the first\n",
        "    idxs = is_eot.float().argmax(dim=1)\n",
        "    return idxs.to(device)\n",
        "\n",
        "class PromptLearner(nn.Module):\n",
        "    \"\"\"CoOp: shared context tokens\"\"\"\n",
        "    def __init__(self, classnames, clip_model, ctx_len=4):\n",
        "        super().__init__()\n",
        "        self.classnames = classnames\n",
        "        self.clip_model = clip_model\n",
        "        self.ctx_len = ctx_len\n",
        "        ctx_dim = clip_model.ln_final.weight.shape[0]\n",
        "\n",
        "        # learnable context tokens\n",
        "        emb_w = clip_model.token_embedding.weight\n",
        "        self.ctx = nn.Parameter(torch.randn(ctx_len, ctx_dim,\n",
        "                                            dtype=emb_w.dtype,\n",
        "                                            device=emb_w.device))\n",
        "\n",
        "        # tokenize class templates\n",
        "        texts = [f\"a photo of a {c}\" for c in classnames]\n",
        "        self.tokenized = clip.tokenize(texts)\n",
        "\n",
        "    def forward(self):\n",
        "        n_cls = len(self.classnames)\n",
        "\n",
        "        # token embeddings (dtype follows CLIP text tower, usually fp16 on CUDA)\n",
        "        with torch.no_grad():\n",
        "            embedding = self.clip_model.token_embedding(\n",
        "                self.tokenized.to(self.ctx.device)\n",
        "            )  # [N_cls, 77, dim]  dtype = fp16\n",
        "\n",
        "        # build ctx in SAME dtype\n",
        "        ctx = self.ctx.unsqueeze(0).expand(n_cls, -1, -1).to(embedding.dtype)  # [N_cls, ctx_len, dim]\n",
        "        prefix = embedding[:, :1, :]    # [N_cls, 1, dim]  fp16\n",
        "        suffix = embedding[:, 1:, :]    # [N_cls, 76, dim] fp16\n",
        "\n",
        "        prompts = torch.cat([prefix, ctx, suffix], dim=1)   # [N_cls, 1+ctx_len+76, dim]\n",
        "        if prompts.size(1) < 77:\n",
        "            pad_len = 77 - prompts.size(1)\n",
        "            pad = torch.zeros(prompts.size(0), pad_len, prompts.size(2),\n",
        "                              device=prompts.device, dtype=embedding.dtype)\n",
        "            prompts = torch.cat([prompts, pad], dim=1)\n",
        "        elif prompts.size(1) > 77:\n",
        "            prompts = prompts[:, :77, :]\n",
        "\n",
        "        pe = self.clip_model.positional_embedding[:prompts.size(1), :].to(embedding.dtype)\n",
        "        x = prompts + pe\n",
        "\n",
        "        with autocast(\"cuda\", dtype=torch.float16):\n",
        "            x = x.permute(1, 0, 2)\n",
        "            x = self.clip_model.transformer(x)\n",
        "            x = x.permute(1, 0, 2)\n",
        "            x = self.clip_model.ln_final(x)\n",
        "\n",
        "        tok = self.tokenized.to(x.device)\n",
        "        eot_base = _find_eot_pos(tok)\n",
        "        eot_shifted = (eot_base + self.ctx_len).clamp(max=prompts.size(1) - 1)\n",
        "\n",
        "        text_features = x[torch.arange(x.shape[0], device=x.device), eot_shifted]\n",
        "        proj = self.clip_model.text_projection\n",
        "        text_features = text_features.to(proj.dtype)\n",
        "        text_features = text_features @ proj\n",
        "        text_features = F.normalize(text_features.float(), dim=-1)\n",
        "        return text_features\n",
        "\n",
        "\n",
        "\n",
        "\n",
        "class CoCoOp(nn.Module):\n",
        "    \"\"\"CoCoOp: image-conditioned context with caching and chunk support.\"\"\"\n",
        "    def __init__(self, classnames, clip_model, ctx_len=2, alpha=0.5, dropout=0.0):\n",
        "        super().__init__()\n",
        "        self.classnames = classnames\n",
        "        self.clip_model = clip_model\n",
        "        self.ctx_len = ctx_len\n",
        "        self.alpha = float(alpha)\n",
        "        ctx_dim = clip_model.ln_final.weight.shape[0]\n",
        "        vis_dim = clip_model.visual.output_dim\n",
        "        te_dtype = clip_model.token_embedding.weight.dtype\n",
        "        dev = clip_model.token_embedding.weight.device\n",
        "\n",
        "        # Pre-tokenize classes & cache token embeddings/prefix/suffix/pos as buffers\n",
        "        tokenized = clip.tokenize([f\"a photo of a {c}\" for c in classnames]).to(dev)\n",
        "        with torch.no_grad():\n",
        "            emb = clip_model.token_embedding(tokenized)                     # [N_cls, 77, dim] fp16\n",
        "        prefix = emb[:, :1, :].contiguous()                                 # [N_cls, 1, dim]\n",
        "        suffix = emb[:, 1:, :].contiguous()                                 # [N_cls, 76, dim]\n",
        "        pos = clip_model.positional_embedding[:77, :].to(te_dtype).contiguous()\n",
        "\n",
        "        self.register_buffer(\"tokenized\", tokenized, persistent=False)\n",
        "        self.register_buffer(\"prefix_embed\", prefix, persistent=False)\n",
        "        self.register_buffer(\"suffix_embed\", suffix, persistent=False)\n",
        "        self.register_buffer(\"pos_embed\", pos, persistent=False)\n",
        "\n",
        "        # Base learnable context (shared across images)\n",
        "        self.base_ctx = nn.Parameter(torch.randn(ctx_len, ctx_dim, dtype=te_dtype, device=dev))\n",
        "        # Image-conditioned context MLP (fp16)\n",
        "        self.image_proj = nn.Sequential(\n",
        "            nn.Linear(vis_dim, ctx_dim, bias=True),\n",
        "            nn.ReLU(inplace=True),\n",
        "            nn.Linear(ctx_dim, ctx_dim, bias=True),\n",
        "        ).to(te_dtype).to(dev)\n",
        "        self.dropout = nn.Dropout(dropout)\n",
        "\n",
        "    def forward(self, image_features, class_idx=None):\n",
        "        \"\"\"\n",
        "        image_features: [B, Dv] (fp32 ok; cast inside)\n",
        "        class_idx: Optional LongTensor [Nc] subset of classes\n",
        "        returns [B, Nc, Dt]\n",
        "        \"\"\"\n",
        "        dev = self.pos_embed.device\n",
        "        te_dtype = self.pos_embed.dtype\n",
        "        if class_idx is None:\n",
        "            class_idx = torch.arange(self.tokenized.size(0), device=dev)\n",
        "        elif not isinstance(class_idx, torch.Tensor):\n",
        "            class_idx = torch.tensor(class_idx, device=dev, dtype=torch.long)\n",
        "        Nc = class_idx.numel()\n",
        "        B = image_features.size(0)\n",
        "\n",
        "        # Select cached class embeddings\n",
        "        prefix = self.prefix_embed.index_select(0, class_idx)   # [Nc, 1, dim] fp16\n",
        "        suffix = self.suffix_embed.index_select(0, class_idx)   # [Nc, 76, dim] fp16\n",
        "        pos = self.pos_embed                                   # [77, dim]    fp16\n",
        "\n",
        "        # Build per-image conditioned context\n",
        "        cond = self.image_proj(image_features.to(pos.dtype))    # [B, ctx_dim] fp16\n",
        "        cond = cond.unsqueeze(1).expand(B, self.ctx_len, -1)    # [B, ctx_len, dim]\n",
        "        base = self.base_ctx.to(pos.dtype).unsqueeze(0).expand(B, -1, -1)  # [B, ctx_len, dim]\n",
        "        ctx_tokens = base + self.alpha * cond                   # [B, ctx_len, dim]\n",
        "        ctx_tokens = self.dropout(ctx_tokens)\n",
        "        ctx_tokens = ctx_tokens.unsqueeze(1).expand(B, Nc, self.ctx_len, -1)  # [B, Nc, ctx_len, dim]\n",
        "\n",
        "        # Assemble prompts: [SOT] + ctx + (class + ... + EOT)\n",
        "        prefix = prefix.unsqueeze(0).expand(B, -1, -1, -1)      # [B, Nc, 1, dim]\n",
        "        suffix = suffix.unsqueeze(0).expand(B, -1, -1, -1)      # [B, Nc, 76, dim]\n",
        "        prompts = torch.cat([prefix, ctx_tokens, suffix], dim=2)  # [B, Nc, 1+ctx_len+76, dim]\n",
        "        L = prompts.size(2)\n",
        "        if L < 77:\n",
        "            pad_len = 77 - L\n",
        "            pad = torch.zeros(B, Nc, pad_len, prompts.size(-1), device=prompts.device, dtype=pos.dtype)\n",
        "            prompts = torch.cat([prompts, pad], dim=2)\n",
        "        elif L > 77:\n",
        "            prompts = prompts[:, :, :77, :]\n",
        "\n",
        "        x = prompts + pos[:prompts.size(2), :]\n",
        "\n",
        "        with autocast(\"cuda\", dtype=torch.float16):\n",
        "            x = x.permute(2, 0, 1, 3)                        # [L, B, Nc, dim]\n",
        "            x = x.reshape(x.size(0), B * Nc, x.size(3))      # [L, B*Nc, dim]\n",
        "            x = self.clip_model.transformer(x)\n",
        "            x = x.permute(1, 0, 2)                           # [B*Nc, L, dim]\n",
        "            x = self.clip_model.ln_final(x)\n",
        "\n",
        "        # EOT index per class (shifted by ctx_len)\n",
        "        eot_base = _find_eot_pos(self.tokenized)[class_idx]          # [Nc]\n",
        "        eot_shifted = (eot_base + self.ctx_len).clamp(max=76)\n",
        "        eot_shifted = eot_shifted.unsqueeze(0).expand(B, -1).reshape(-1)  # [B*Nc]\n",
        "\n",
        "        idx = torch.arange(B * Nc, device=x.device)\n",
        "        text_features = x[idx, eot_shifted]                 # [B*Nc, dim] fp16\n",
        "        proj = self.clip_model.text_projection\n",
        "        text_features = text_features.to(proj.dtype)\n",
        "        text_features = text_features @ proj                # [B*Nc, Dt]\n",
        "        text_features = text_features.view(B, Nc, -1).float()\n",
        "        text_features = F.normalize(text_features, dim=-1)\n",
        "        return text_features\n"
      ],
      "metadata": {
        "id": "m0IXYeCP5ibU"
      },
      "execution_count": 22,
      "outputs": []
    },
    {
      "cell_type": "code",
      "source": [
        "def cocoop_logits_microbatch(clip_model, prompt_learner, feats, mb_size=8, cls_mb_size=3):\n",
        "    logit_scale = clip_model.logit_scale.exp()\n",
        "    B = feats.size(0)\n",
        "    N_cls = prompt_learner.tokenized.size(0)\n",
        "    outs = []\n",
        "    for start in range(0, B, mb_size):\n",
        "        end = min(start + mb_size, B)\n",
        "        f = feats[start:end]\n",
        "        row_chunks = []\n",
        "        for c0 in range(0, N_cls, cls_mb_size):\n",
        "            c1 = min(c0 + cls_mb_size, N_cls)\n",
        "            class_idx = torch.arange(c0, c1, device=f.device, dtype=torch.long)\n",
        "            text_b = prompt_learner(f, class_idx=class_idx)   # [b, cls_mb, D]\n",
        "            logits_chunk = logit_scale * torch.bmm(\n",
        "                f.unsqueeze(1), text_b.transpose(1, 2)\n",
        "            ).squeeze(1)                                      # [b, cls_mb]\n",
        "            row_chunks.append(logits_chunk)\n",
        "        outs.append(torch.cat(row_chunks, dim=1))\n",
        "    return torch.cat(outs, dim=0)\n",
        "\n",
        "use_amp = True\n",
        "def train_prompt_learner_DA(clip_model, source_loader, target_loader, classnames,\n",
        "                            learner_type=\"coop\", epochs=5, lr=5e-4, lambda_u=0.3, conf_thresh=0.7):\n",
        "    if learner_type == \"coop\":\n",
        "        prompt_learner = PromptLearner(classnames, clip_model).to(device)\n",
        "    else:\n",
        "        prompt_learner = CoCoOp(classnames, clip_model).to(device)\n",
        "\n",
        "    for p in clip_model.parameters():\n",
        "        p.requires_grad = False\n",
        "\n",
        "    optimizer = optim.Adam(prompt_learner.parameters(), lr=lr)\n",
        "    logit_scale = clip_model.logit_scale.exp().detach()  # scalar\n",
        "\n",
        "    for epoch in range(epochs):\n",
        "        prompt_learner.train()\n",
        "        total_src, correct_src, loss_sum = 0, 0, 0.0\n",
        "\n",
        "        src_iter = iter(source_loader)\n",
        "        tgt_iter = iter(target_loader)\n",
        "\n",
        "        for _ in range(len(source_loader)):\n",
        "            try:\n",
        "                imgs_s, labels_s = next(src_iter)\n",
        "            except StopIteration:\n",
        "                src_iter = iter(source_loader)\n",
        "                imgs_s, labels_s = next(src_iter)\n",
        "            try:\n",
        "                imgs_t, _ = next(tgt_iter)\n",
        "            except StopIteration:\n",
        "                tgt_iter = iter(target_loader)\n",
        "                imgs_t, _ = next(tgt_iter)\n",
        "\n",
        "            imgs_s, labels_s = imgs_s.to(device), labels_s.to(device)\n",
        "            imgs_t = imgs_t.to(device)\n",
        "\n",
        "            # image features (frozen CLIP)\n",
        "            with torch.no_grad(), autocast(\"cuda\", dtype=torch.float16):\n",
        "                feat_s = clip_model.encode_image(imgs_s)\n",
        "                feat_t = clip_model.encode_image(imgs_t)\n",
        "            feat_s = F.normalize(feat_s.float(), dim=-1)\n",
        "            feat_t = F.normalize(feat_t.float(), dim=-1)\n",
        "\n",
        "            # text features\n",
        "            if learner_type == \"cocoop\":\n",
        "                logits_s = cocoop_logits_microbatch(clip_model, prompt_learner, feat_s, mb_size=8, cls_mb_size=3)\n",
        "            else:\n",
        "                text = prompt_learner()             # [N_cls, D]\n",
        "                logits_s = logit_scale * (feat_s @ text.T)\n",
        "\n",
        "            loss_sup = F.cross_entropy(logits_s, labels_s)\n",
        "\n",
        "            preds_s = logits_s.argmax(1)\n",
        "            total_src += labels_s.size(0)\n",
        "            correct_src += (preds_s == labels_s).sum().item()\n",
        "\n",
        "            # ----- target unsupervised -----\n",
        "            if learner_type == \"cocoop\":\n",
        "                logits_t = cocoop_logits_microbatch(clip_model, prompt_learner, feat_t, mb_size=8, cls_mb_size=3)\n",
        "            else:\n",
        "                logits_t = logit_scale * (feat_t @ text.T)\n",
        "\n",
        "            probs_t = logits_t.softmax(dim=1)\n",
        "            confs, pseudo = probs_t.max(dim=1)\n",
        "\n",
        "            # feature-space consistency (better than pixel-noise for deterministic preprocess)\n",
        "            noise = 0.02 * torch.randn_like(feat_t)\n",
        "            feat_t_aug = F.normalize(feat_t + noise, dim=-1)\n",
        "\n",
        "            if learner_type == \"cocoop\":\n",
        "                logits_t_aug = cocoop_logits_microbatch(clip_model, prompt_learner, feat_t_aug, mb_size=8, cls_mb_size=3)\n",
        "            else:\n",
        "                logits_t_aug = logit_scale * (feat_t_aug @ text.T)\n",
        "\n",
        "            probs_t_aug = logits_t_aug.softmax(dim=1)\n",
        "            loss_cons = F.mse_loss(probs_t, probs_t_aug)\n",
        "\n",
        "            mask = confs > conf_thresh\n",
        "            loss_pseudo = F.cross_entropy(logits_t[mask], pseudo[mask]) if mask.any() else torch.tensor(0.0, device=device)\n",
        "\n",
        "            loss = loss_sup if epoch < 2 else (loss_sup + lambda_u * (loss_pseudo + loss_cons))\n",
        "\n",
        "            optimizer.zero_grad()\n",
        "            loss.backward()\n",
        "            optimizer.step()\n",
        "            loss_sum += loss.item() * labels_s.size(0)\n",
        "\n",
        "        acc_src = correct_src / total_src if total_src else 0.0\n",
        "        print(f\"[{learner_type.upper()}-DA] Epoch {epoch+1}/{epochs} | Src Acc: {acc_src*100:.2f}% | Loss: {loss_sum/total_src:.4f}\")\n",
        "\n",
        "    return prompt_learner\n",
        "\n",
        "\n",
        "@torch.no_grad()\n",
        "def eval_prompt_learner(clip_model, prompt_learner, loader):\n",
        "    prompt_learner.eval()\n",
        "    total, correct = 0, 0\n",
        "    logit_scale = clip_model.logit_scale.exp()\n",
        "    for imgs, labels in loader:\n",
        "        imgs, labels = imgs.to(device), labels.to(device)\n",
        "        with autocast(\"cuda\", dtype=torch.float16):\n",
        "            image_features = clip_model.encode_image(imgs)\n",
        "        image_features = F.normalize(image_features.float(), dim=-1)\n",
        "\n",
        "        if isinstance(prompt_learner, CoCoOp):\n",
        "            logits = cocoop_logits_microbatch(clip_model, prompt_learner, image_features, mb_size=16, cls_mb_size=3)\n",
        "        else:\n",
        "            text_features = prompt_learner()              # [N_cls, D]\n",
        "            logits = logit_scale * (image_features @ text_features.T)\n",
        "\n",
        "        preds = logits.argmax(1)\n",
        "        total += labels.size(0)\n",
        "        correct += (preds == labels).sum().item()\n",
        "    return correct / total if total else 0.0\n"
      ],
      "metadata": {
        "id": "UR98u3_c2XUL"
      },
      "execution_count": 23,
      "outputs": []
    },
    {
      "cell_type": "code",
      "source": [
        "train_domains = [\"photo\", \"art_painting\", \"cartoon\"]\n",
        "source_dataset = torch.utils.data.ConcatDataset([clip_loaders[d].dataset for d in train_domains])\n",
        "source_loader = DataLoader(source_dataset, batch_size=64, shuffle=True)\n",
        "target_loader = clip_loaders[\"sketch\"]\n",
        "\n",
        "# ---- Train CoOp-DA ----\n",
        "coop_da = train_prompt_learner_DA(\n",
        "    clip32, source_loader, target_loader, pacs_classes,\n",
        "    learner_type=\"coop\", epochs=5, lambda_u=0.5, conf_thresh=0.7\n",
        ")\n",
        "\n",
        "source_loader_coco = DataLoader(source_dataset, batch_size=24, shuffle=True, num_workers=2, pin_memory=True)\n",
        "target_loader_coco = DataLoader(clip_dsets[\"sketch\"], batch_size=24, shuffle=False, num_workers=2, pin_memory=True)\n",
        "\n",
        "torch.cuda.empty_cache()\n",
        "cocoop_da = train_prompt_learner_DA(\n",
        "    clip32, source_loader_coco, target_loader_coco, pacs_classes,\n",
        "    learner_type=\"cocoop\", epochs=5, lambda_u=0.5, conf_thresh=0.7\n",
        ")\n",
        "\n",
        "# ---- Evaluate ----\n",
        "acc_src_coop = eval_prompt_learner(clip32, coop_da, source_loader)\n",
        "acc_tgt_coop = eval_prompt_learner(clip32, coop_da, target_loader)\n",
        "\n",
        "acc_src_cocoop = eval_prompt_learner(clip32, cocoop_da, source_loader)\n",
        "acc_tgt_cocoop = eval_prompt_learner(clip32, cocoop_da, target_loader)\n",
        "\n",
        "Ns = len(source_loader.dataset)\n",
        "Nt = len(target_loader.dataset)\n",
        "\n",
        "overall_coop  = (acc_src_coop  * Ns + acc_tgt_coop  * Nt) / (Ns + Nt)\n",
        "overall_coco  = (acc_src_cocoop* Ns + acc_tgt_cocoop* Nt) / (Ns + Nt)\n",
        "\n",
        "print(\"\\n==================== RESULTS ====================\")\n",
        "print(f\"CoOp-DA   → Source: {acc_src_coop*100:.2f}% | Target: {acc_tgt_coop*100:.2f}% | Overall (weighted): {overall_coop*100:.2f}%\")\n",
        "print(f\"CoCoOp-DA → Source: {acc_src_cocoop*100:.2f}% | Target: {acc_tgt_cocoop*100:.2f}% | Overall (weighted): {overall_coco*100:.2f}%\")\n",
        "print(\"=================================================\")"
      ],
      "metadata": {
        "colab": {
          "base_uri": "https://localhost:8080/"
        },
        "id": "yrLq_Ju32Tgg",
        "outputId": "fd26f846-5d17-475c-9df6-1757a049ad0b"
      },
      "execution_count": 24,
      "outputs": [
        {
          "output_type": "stream",
          "name": "stdout",
          "text": [
            "[COOP-DA] Epoch 1/5 | Src Acc: 96.72% | Loss: 0.1352\n",
            "[COOP-DA] Epoch 2/5 | Src Acc: 97.89% | Loss: 0.0831\n",
            "[COOP-DA] Epoch 3/5 | Src Acc: 98.07% | Loss: 0.1001\n",
            "[COOP-DA] Epoch 4/5 | Src Acc: 98.14% | Loss: 0.0948\n",
            "[COOP-DA] Epoch 5/5 | Src Acc: 98.20% | Loss: 0.0913\n",
            "[COCOOP-DA] Epoch 1/5 | Src Acc: 98.14% | Loss: 0.0626\n",
            "[COCOOP-DA] Epoch 2/5 | Src Acc: 98.58% | Loss: 0.0439\n",
            "[COCOOP-DA] Epoch 3/5 | Src Acc: 98.73% | Loss: 0.0541\n",
            "[COCOOP-DA] Epoch 4/5 | Src Acc: 98.98% | Loss: 0.0430\n",
            "[COCOOP-DA] Epoch 5/5 | Src Acc: 99.24% | Loss: 0.0356\n",
            "\n",
            "==================== RESULTS ====================\n",
            "CoOp-DA   → Source: 98.19% | Target: 87.63% | Overall (weighted): 94.03%\n",
            "CoCoOp-DA → Source: 99.46% | Target: 87.76% | Overall (weighted): 94.86%\n",
            "=================================================\n"
          ]
        }
      ]
    },
    {
      "cell_type": "code",
      "source": [
        "# def whos_biggest(n=10):\n",
        "#     import sys\n",
        "#     vars_with_size = []\n",
        "#     for name, obj in globals().items():\n",
        "#         try:\n",
        "#             vars_with_size.append((name, sys.getsizeof(obj)))\n",
        "#         except:\n",
        "#             pass\n",
        "#     for name, size in sorted(vars_with_size, key=lambda x: -x[1])[:n]:\n",
        "#         print(f\"{name:30s} {size/1024/1024:10.2f} MB\")\n",
        "# whos_biggest()\n",
        "torch.cuda.empty_cache()"
      ],
      "metadata": {
        "id": "xC-tmFCSUBWJ"
      },
      "execution_count": 25,
      "outputs": []
    },
    {
      "cell_type": "markdown",
      "source": [
        "##Gradient Conflict and Alignment"
      ],
      "metadata": {
        "id": "35N4QNeJ2P7Y"
      }
    },
    {
      "cell_type": "code",
      "source": [
        "def compute_grad_similarity(grads1, grads2):\n",
        "    \"\"\"Flatten and compute cosine similarity in fp32 between two gradient lists.\"\"\"\n",
        "    g1 = torch.cat([g.detach().float().reshape(-1) for g in grads1 if g is not None])\n",
        "    g2 = torch.cat([g.detach().float().reshape(-1) for g in grads2 if g is not None])\n",
        "    # guard against zero vectors\n",
        "    if g1.norm() == 0 or g2.norm() == 0:\n",
        "        return 0.0\n",
        "    return F.cosine_similarity(g1.unsqueeze(0), g2.unsqueeze(0)).item()\n",
        "\n",
        "\n",
        "# def get_prompt_grads(prompt_learner):\n",
        "#     \"\"\"Extract gradient tensors for prompt parameters.\"\"\"\n",
        "#     grads = []\n",
        "#     for p in prompt_learner.parameters():\n",
        "#         if p.grad is not None:\n",
        "#             grads.append(p.grad.detach().clone())\n",
        "#     return grads"
      ],
      "metadata": {
        "id": "dNe4TtPXjuVJ"
      },
      "execution_count": 26,
      "outputs": []
    },
    {
      "cell_type": "code",
      "source": [
        "def grads_of(loss, params):\n",
        "    \"\"\"\n",
        "    autograd.grad with allow_unused=True and zero-fill,\n",
        "    so we never crash if a param wasn't used this step.\n",
        "    \"\"\"\n",
        "    raw = torch.autograd.grad(\n",
        "        loss, params,\n",
        "        retain_graph=False, create_graph=False,\n",
        "        allow_unused=True\n",
        "    )\n",
        "    out = []\n",
        "    for p, g in zip(params, raw):\n",
        "        if g is None:\n",
        "            out.append(torch.zeros_like(p))\n",
        "        else:\n",
        "            out.append(g)\n",
        "    return out\n",
        "\n",
        "def train_coop_with_grad_analysis(clip_model, loaders, classnames, epochs=5, lr=5e-4):\n",
        "    \"\"\"\n",
        "    Train CoOp on two domains ('photo', 'art_painting'), measure cosine similarity\n",
        "    between per-domain prompt gradients each step. Uses autograd.grad safely and\n",
        "    applies the averaged gradient.\n",
        "    \"\"\"\n",
        "    prompt_learner = PromptLearner(classnames, clip_model).to(device)\n",
        "    optimizer = torch.optim.Adam(prompt_learner.parameters(), lr=lr)\n",
        "    logit_scale = clip_model.logit_scale.exp().detach()\n",
        "\n",
        "    sims_per_step, accs_per_step = [], []\n",
        "    epoch_means = []\n",
        "\n",
        "    for epoch in range(epochs):\n",
        "        prompt_learner.train()\n",
        "        iterP = iter(loaders[\"photo\"])\n",
        "        iterA = iter(loaders[\"art_painting\"])\n",
        "        num_steps = min(len(loaders[\"photo\"]), len(loaders[\"art_painting\"]))\n",
        "\n",
        "        # compute grads only for params that actually require grad\n",
        "        params = [p for p in prompt_learner.parameters() if p.requires_grad]\n",
        "\n",
        "        for _ in range(num_steps):\n",
        "            imgs_p, lbls_p = next(iterP); imgs_a, lbls_a = next(iterA)\n",
        "            imgs_p, lbls_p = imgs_p.to(device), lbls_p.to(device)\n",
        "            imgs_a, lbls_a = imgs_a.to(device), lbls_a.to(device)\n",
        "\n",
        "            with torch.no_grad(), autocast(\"cuda\", dtype=torch.float16):\n",
        "                feat_p = clip_model.encode_image(imgs_p)\n",
        "                feat_a = clip_model.encode_image(imgs_a)\n",
        "            feat_p = F.normalize(feat_p.float(), dim=-1)\n",
        "            feat_a = F.normalize(feat_a.float(), dim=-1)\n",
        "\n",
        "            # domain P\n",
        "            text_p = prompt_learner()\n",
        "            logits_p = logit_scale * (feat_p @ text_p.T)\n",
        "            loss_p = F.cross_entropy(logits_p, lbls_p)\n",
        "            grads_p = grads_of(loss_p, params)\n",
        "\n",
        "            # domain A\n",
        "            text_a = prompt_learner()\n",
        "            logits_a = logit_scale * (feat_a @ text_a.T)\n",
        "            loss_a = F.cross_entropy(logits_a, lbls_a)\n",
        "            grads_a = grads_of(loss_a, params)\n",
        "\n",
        "            # cosine sim (fp32)\n",
        "            sim = compute_grad_similarity(grads_p, grads_a)\n",
        "            sims_per_step.append(sim)\n",
        "\n",
        "            # step accuracy on union batch (0..1)\n",
        "            preds = torch.cat([logits_p.argmax(1), logits_a.argmax(1)])\n",
        "            lbls  = torch.cat([lbls_p, lbls_a])\n",
        "            acc = (preds == lbls).float().mean().item()\n",
        "            accs_per_step.append(acc)\n",
        "\n",
        "            # apply average gradient\n",
        "            avg_grads = [0.5 * (gp + ga) for gp, ga in zip(grads_p, grads_a)]\n",
        "            optimizer.zero_grad(set_to_none=True)\n",
        "            for p, g in zip(params, avg_grads):\n",
        "                p.grad = g\n",
        "            optimizer.step()\n",
        "        epoch_mean = float(np.mean(sims_per_step[-num_steps:]))\n",
        "        epoch_means.append(epoch_mean)\n",
        "        print(f\"[E{epoch+1}] GradSim mean (epoch): {epoch_mean:.3f} | \"\n",
        "              f\"Step-Acc mean: {np.mean(accs_per_step[-num_steps:])*100:.2f}%\")\n",
        "\n",
        "    return prompt_learner, sims_per_step, accs_per_step, epoch_means\n",
        "\n",
        "\n",
        "\n",
        "def train_coop_with_pga(clip_model, loaders, classnames, epochs=5, lr=5e-4):\n",
        "    \"\"\"\n",
        "    PCGrad/PGA-style: project ga off gp if they conflict, then apply 0.5*(gp + ga_proj).\n",
        "    \"\"\"\n",
        "    prompt_learner = PromptLearner(classnames, clip_model).to(device)\n",
        "    optimizer = torch.optim.Adam(prompt_learner.parameters(), lr=lr)\n",
        "    logit_scale = clip_model.logit_scale.exp().detach()\n",
        "    eps = 1e-12\n",
        "\n",
        "    for epoch in range(epochs):\n",
        "        prompt_learner.train()\n",
        "        iterP = iter(loaders[\"photo\"])\n",
        "        iterA = iter(loaders[\"art_painting\"])\n",
        "        num_steps = min(len(loaders[\"photo\"]), len(loaders[\"art_painting\"]))\n",
        "\n",
        "        total_correct, total = 0, 0\n",
        "        params = [p for p in prompt_learner.parameters() if p.requires_grad]\n",
        "\n",
        "        for _ in range(num_steps):\n",
        "            imgs_p, lbls_p = next(iterP); imgs_a, lbls_a = next(iterA)\n",
        "            imgs_p, lbls_p = imgs_p.to(device), lbls_p.to(device)\n",
        "            imgs_a, lbls_a = imgs_a.to(device), lbls_a.to(device)\n",
        "\n",
        "            with torch.no_grad(), autocast(\"cuda\", dtype=torch.float16):\n",
        "                feat_p = clip_model.encode_image(imgs_p)\n",
        "                feat_a = clip_model.encode_image(imgs_a)\n",
        "            feat_p = F.normalize(feat_p.float(), dim=-1)\n",
        "            feat_a = F.normalize(feat_a.float(), dim=-1)\n",
        "\n",
        "            # grads per domain\n",
        "            text_p = prompt_learner()\n",
        "            logits_p = logit_scale * (feat_p @ text_p.T)\n",
        "            loss_p = F.cross_entropy(logits_p, lbls_p)\n",
        "            gp = grads_of(loss_p, params)\n",
        "\n",
        "            text_a = prompt_learner()\n",
        "            logits_a = logit_scale * (feat_a @ text_a.T)\n",
        "            loss_a = F.cross_entropy(logits_a, lbls_a)\n",
        "            ga = grads_of(loss_a, params)\n",
        "\n",
        "            # PCGrad: project ga onto the normal plane of gp if cos<0\n",
        "            ga_proj = []\n",
        "            for g1, g2 in zip(gp, ga):\n",
        "                v1 = g1.detach().float().reshape(-1)\n",
        "                v2 = g2.detach().float().reshape(-1)\n",
        "                if v1.norm() > 0 and v2.norm() > 0:\n",
        "                    cos = torch.dot(v1, v2) / (v1.norm() * v2.norm() + eps)\n",
        "                    if cos.item() < 0:\n",
        "                        proj = (torch.dot(v2, v1) / (torch.dot(v1, v1) + eps)) * v1\n",
        "                        v2 = v2 - proj\n",
        "                ga_proj.append(v2.view_as(g2).to(g2.dtype))\n",
        "\n",
        "            optimizer.zero_grad(set_to_none=True)\n",
        "            for p, g1, g2 in zip(params, gp, ga_proj):\n",
        "                p.grad = 0.5 * (g1 + g2)\n",
        "            optimizer.step()\n",
        "\n",
        "            preds = torch.cat([logits_p.argmax(1), logits_a.argmax(1)])\n",
        "            lbls  = torch.cat([lbls_p, lbls_a])\n",
        "            total_correct += (preds == lbls).sum().item()\n",
        "            total += lbls.size(0)\n",
        "\n",
        "        print(f\"[PGA-E{epoch+1}] Src Acc over steps: {100*total_correct/total:.2f}%\")\n",
        "\n",
        "    return prompt_learner\n"
      ],
      "metadata": {
        "id": "x9BYP6cvmRt9"
      },
      "execution_count": 29,
      "outputs": []
    },
    {
      "cell_type": "code",
      "source": [
        "loaders_PA = {\n",
        "    \"photo\": clip_loaders[\"photo\"],\n",
        "    \"art_painting\": clip_loaders[\"art_painting\"]\n",
        "}\n",
        "\n",
        "# (1) Normal CoOp with gradient tracking\n",
        "coop_norm, sims, accs, epoch_means = train_coop_with_grad_analysis(clip32, loaders_PA, pacs_classes, epochs=5)\n",
        "\n",
        "# rescale cosine sim from [-1,1] -> [0,1]\n",
        "#sims_01 = [(s + 1.0) / 2.0 for s in sims]\n",
        "\n",
        "plt.figure(figsize=(8,5))\n",
        "\n",
        "# Step-level similarity and accuracy\n",
        "plt.plot(sims, label=\"Grad cosine similarity (per step)\", color='tab:blue', alpha=0.6)\n",
        "plt.plot(accs, label=\"Step accuracy (0–1)\", color='tab:green', alpha=0.6)\n",
        "\n",
        "# Epoch-level means overlayed as thicker points/lines\n",
        "epoch_steps = np.linspace(0, len(sims), len(epoch_means) + 1, endpoint=True)\n",
        "plt.plot(epoch_steps[1:], epoch_means, 'o-', color='tab:orange', linewidth=2.5,\n",
        "         markersize=6, label=\"Avg cosine sim per epoch\")\n",
        "\n",
        "plt.xlabel(\"Training step\")\n",
        "plt.ylabel(\"Value\")\n",
        "#plt.xticks(epoch_steps, [f\"E{i+1}\" for i in range(len(epoch_means))])\n",
        "plt.title(\"Gradient Alignment and Accuracy Across Training\")\n",
        "plt.legend()\n",
        "plt.grid(True, linestyle=\"--\", alpha=0.4)\n",
        "plt.tight_layout()\n",
        "plt.show()\n",
        "\n",
        "# (2) CoOp with PGA\n",
        "coop_pga = train_coop_with_pga(clip32, loaders_PA, pacs_classes, epochs=5)\n",
        "\n",
        "# --- Evaluate on Source (P+A) and Target (Sketch) ---\n",
        "source_concat = torch.utils.data.ConcatDataset([clip_loaders[\"photo\"].dataset, clip_loaders[\"art_painting\"].dataset])\n",
        "src_loader = DataLoader(source_concat, batch_size=64, shuffle=False)\n",
        "tgt_loader = clip_loaders[\"sketch\"]"
      ],
      "metadata": {
        "id": "7ES2_Smamj51",
        "colab": {
          "base_uri": "https://localhost:8080/",
          "height": 681
        },
        "outputId": "ce7a0fd2-b9e2-4ee3-9a31-2d8cca182062"
      },
      "execution_count": 32,
      "outputs": [
        {
          "output_type": "stream",
          "name": "stdout",
          "text": [
            "[E1] GradSim mean (epoch): 0.795 | Step-Acc mean: 91.13%\n",
            "[E2] GradSim mean (epoch): 0.827 | Step-Acc mean: 94.41%\n",
            "[E3] GradSim mean (epoch): 0.846 | Step-Acc mean: 96.43%\n",
            "[E4] GradSim mean (epoch): 0.754 | Step-Acc mean: 96.81%\n",
            "[E5] GradSim mean (epoch): 0.571 | Step-Acc mean: 97.07%\n"
          ]
        },
        {
          "output_type": "display_data",
          "data": {
            "text/plain": [
              "<Figure size 800x500 with 1 Axes>"
            ],
            "image/png": "[encoded data removed]"
          },
          "metadata": {}
        },
        {
          "output_type": "stream",
          "name": "stdout",
          "text": [
            "[PGA-E1] Src Acc over steps: 96.23%\n",
            "[PGA-E2] Src Acc over steps: 97.26%\n",
            "[PGA-E3] Src Acc over steps: 97.65%\n",
            "[PGA-E4] Src Acc over steps: 98.06%\n",
            "[PGA-E5] Src Acc over steps: 97.62%\n"
          ]
        }
      ]
    },
    {
      "cell_type": "code",
      "source": [
        "acc_src_norm = eval_prompt_learner(clip32, coop_norm, src_loader)\n",
        "acc_tgt_norm = eval_prompt_learner(clip32, coop_norm, tgt_loader)\n",
        "acc_src_pga = eval_prompt_learner(clip32, coop_pga, src_loader)\n",
        "acc_tgt_pga = eval_prompt_learner(clip32, coop_pga, tgt_loader)\n",
        "\n",
        "print(\"\\n================== RESULTS ==================\")\n",
        "print(f\"Normal CoOp → Src: {acc_src_norm*100:.2f}% | Tgt (Sketch): {acc_tgt_norm*100:.2f}%\")\n",
        "print(f\"PGA-CoOp    → Src: {acc_src_pga*100:.2f}% | Tgt (Sketch): {acc_tgt_pga*100:.2f}%\")\n",
        "print(\"=============================================\")"
      ],
      "metadata": {
        "id": "Pksn2_ZwmmmH",
        "colab": {
          "base_uri": "https://localhost:8080/"
        },
        "outputId": "40cf3d46-e8d4-4d0a-855e-e86e5e1df43b"
      },
      "execution_count": 33,
      "outputs": [
        {
          "output_type": "stream",
          "name": "stdout",
          "text": [
            "\n",
            "================== RESULTS ==================\n",
            "Normal CoOp → Src: 96.99% | Tgt (Sketch): 79.82%\n",
            "PGA-CoOp    → Src: 97.58% | Tgt (Sketch): 88.50%\n",
            "=============================================\n"
          ]
        }
      ]
    },
    {
      "cell_type": "markdown",
      "source": [
        "##Open-Set and Generalization Analysis"
      ],
      "metadata": {
        "id": "7sHsD2bC2buK"
      }
    },
    {
      "cell_type": "code",
      "source": [
        "n_total = len(pacs_classes)\n",
        "n_seen = int(np.floor(0.8 * n_total))\n",
        "seen_idxs = list(range(n_seen))\n",
        "unseen_idxs = list(range(n_seen, n_total))\n",
        "seen_classes = [pacs_classes[i] for i in seen_idxs]\n",
        "unseen_classes = [pacs_classes[i] for i in unseen_idxs]\n",
        "print(\"Seen:\", seen_classes, \"Unseen:\", unseen_classes)\n",
        "\n",
        "# --- 2. helper: filter a dataset (ImageFolder) to only include specified original class indices ---\n",
        "def subset_indices_for_classes(dataset, allowed_idxs):\n",
        "    return [i for i, t in enumerate(dataset.targets) if int(t) in allowed_idxs]\n",
        "\n",
        "# Build source train loader (photo+art+cartoon) but only seen classes\n",
        "train_domains = [\"photo\", \"art_painting\", \"cartoon\"]\n",
        "src_dsets = [clip_loaders[d].dataset for d in train_domains]\n",
        "src_subsets = [Subset(ds, subset_indices_for_classes(ds, seen_idxs)) for ds in src_dsets]\n",
        "source_seen_ds = ConcatDataset(src_subsets)\n",
        "source_seen_loader = DataLoader(source_seen_ds, batch_size=64, shuffle=True, num_workers=2)\n",
        "\n",
        "# Build full-eval loaders (all classes) for source and target (sketch)\n",
        "full_src_ds = ConcatDataset([clip_loaders[d].dataset for d in train_domains])\n",
        "full_src_loader = DataLoader(full_src_ds, batch_size=64, shuffle=False, num_workers=2)\n",
        "_, sketch_loader = get_pacs_domain(root, \"sketch\", clipPreprocess, batch_size=64, shuffle=False)"
      ],
      "metadata": {
        "id": "d8xUFz4VCW-r",
        "colab": {
          "base_uri": "https://localhost:8080/"
        },
        "outputId": "387bcd7b-8d62-4324-af92-0f614f17435b"
      },
      "execution_count": 34,
      "outputs": [
        {
          "output_type": "stream",
          "name": "stdout",
          "text": [
            "Seen: ['dog', 'elephant', 'giraffe', 'guitar', 'horse'] Unseen: ['house', 'person']\n"
          ]
        }
      ]
    },
    {
      "cell_type": "code",
      "source": [
        "print(\"\\nTraining CoOp (seen-only)...\")\n",
        "coop_seen = PromptLearner(seen_classes, clip32, ctx_len=4).to(device)\n",
        "with torch.no_grad():\n",
        "    # use a stable prefix embedding to initialize ctx (much better than pure noise)\n",
        "    probe_text = [f\"a photo of a {seen_classes[0]}\"]\n",
        "    tok = clip.tokenize(probe_text).to(device)\n",
        "    emb = clip32.token_embedding(tok)[0]             # [77, dim] (fp16 on cuda)\n",
        "    # take the first few tokens after SOT as prefix (tokens for: \"a photo of a\")\n",
        "    prefix = emb[1:1+coop_seen.ctx.size(0), :]       # [ctx_len, dim]\n",
        "    # small noise so different rows aren't identical\n",
        "    init = prefix + 0.01 * torch.randn_like(prefix)\n",
        "    init = init.to(coop_seen.ctx.dtype)\n",
        "    coop_seen.ctx.copy_(init)\n",
        "# train supervised: reuse train loop but simpler (no unlabeled target use)\n",
        "def train_supervised_on_seen(prompt_module, clip_model, loader, epochs=5, lr=1e-4):\n",
        "    # freeze all CLIP params; only prompt_module (ctx) gets grads\n",
        "    for p in clip_model.parameters():\n",
        "        p.requires_grad = False\n",
        "\n",
        "    prompt_module.train()\n",
        "    opt = torch.optim.Adam(prompt_module.parameters(), lr=lr, weight_decay=5e-4)\n",
        "    seen_map = {orig: i for i, orig in enumerate(seen_idxs)}\n",
        "    logit_scale = clip_model.logit_scale.exp().detach()\n",
        "\n",
        "    for e in range(epochs):\n",
        "        tot, corr = 0, 0\n",
        "        for imgs, labels in loader:\n",
        "            imgs, labels = imgs.to(device), labels.to(device)\n",
        "            mapped = torch.tensor([seen_map[int(l.item())] for l in labels], device=device)\n",
        "\n",
        "            with torch.no_grad():\n",
        "                img_feats = clip_model.encode_image(imgs).float()\n",
        "            img_feats = F.normalize(img_feats, dim=-1)\n",
        "\n",
        "            text_feats = prompt_module()  # CoOp: no args\n",
        "            logits = logit_scale * (img_feats @ text_feats.T)\n",
        "            # label smoothing helps reduce overconfidence and improves OOD behavior\n",
        "            loss = F.cross_entropy(logits, mapped, label_smoothing=0.1)\n",
        "\n",
        "            opt.zero_grad(set_to_none=True)\n",
        "            loss.backward()\n",
        "            torch.nn.utils.clip_grad_norm_(prompt_module.parameters(), max_norm=1.0)\n",
        "            opt.step()\n",
        "\n",
        "            preds = logits.argmax(1)\n",
        "            tot += mapped.size(0)\n",
        "            corr += (preds == mapped).sum().item()\n",
        "        print(f\"Epoch {e+1}/{epochs}  Train acc (seen-only): {100.0 * corr / max(tot,1):.2f}%\")\n",
        "    return prompt_module\n",
        "\n",
        "coop_seen = train_supervised_on_seen(coop_seen, clip32, source_seen_loader, epochs=5, lr=5e-4)"
      ],
      "metadata": {
        "id": "tZXc2K9rDBv7",
        "colab": {
          "base_uri": "https://localhost:8080/"
        },
        "outputId": "9b2e170f-c780-4484-a4c8-6dd57ab790ae"
      },
      "execution_count": 35,
      "outputs": [
        {
          "output_type": "stream",
          "name": "stdout",
          "text": [
            "\n",
            "Training CoOp (seen-only)...\n",
            "Epoch 1/5  Train acc (seen-only): 97.90%\n",
            "Epoch 2/5  Train acc (seen-only): 98.03%\n",
            "Epoch 3/5  Train acc (seen-only): 98.13%\n",
            "Epoch 4/5  Train acc (seen-only): 98.34%\n",
            "Epoch 5/5  Train acc (seen-only): 98.29%\n"
          ]
        }
      ]
    },
    {
      "cell_type": "code",
      "source": [
        "@torch.no_grad()\n",
        "def per_class_acc(loader, text_feats):\n",
        "    C = text_feats.shape[0]\n",
        "    corr = [0]*C; tot = [0]*C\n",
        "    for imgs, labels in loader:\n",
        "        imgs, labels = imgs.to(device), labels.to(device)\n",
        "        f = clip32.encode_image(imgs).float(); f = f / f.norm(dim=-1, keepdim=True)\n",
        "        logits = (f @ text_feats.T) * clip32.logit_scale.exp()\n",
        "        preds = logits.argmax(1)\n",
        "        for l,p in zip(labels.cpu().numpy(), preds.cpu().numpy()):\n",
        "            tot[int(l)] += 1\n",
        "            if int(l)==int(p): corr[int(l)] += 1\n",
        "    per = [ (c/t if t>0 else 0.0) for c,t in zip(corr, tot) ]\n",
        "    return per\n",
        "\n",
        "@torch.no_grad()\n",
        "def per_class_table(loader, zs_feats, coop_feats):\n",
        "    per_zs   = per_class_acc(loader, zs_feats)\n",
        "    per_coop = per_class_acc(loader, coop_feats)\n",
        "    print(\"\\nPer-class accuracy (Source domains P+A+C)\")\n",
        "    print(\"Class                Seen?   Zero-shot    CoOp(seen-only)\")\n",
        "    print(\"-\"*58)\n",
        "    for i, cname in enumerate(pacs_classes):\n",
        "        tag = \"seen  \" if i in seen_idxs else \"unseen\"\n",
        "        print(f\"{cname:<20s} {tag:>6s}   {per_zs[i]*100:7.2f}%      {per_coop[i]*100:7.2f}%\")\n",
        "\n",
        "\n",
        "@torch.no_grad()\n",
        "def full_text_features_from_prompt(prompt_module, seen_classes, unseen_classes):\n",
        "    \"\"\"\n",
        "    Build [C_all, d] text feature matrix for evaluation:\n",
        "      - seen classes: use learned CoOp prompt\n",
        "      - unseen classes: use zero-shot CLIP text embeddings\n",
        "    Output order matches `pacs_classes`.\n",
        "    \"\"\"\n",
        "    # learned features for seen classes (in seen_classes order)\n",
        "    seen_text_feats = prompt_module()  # [C_seen, d]; PromptLearner ignores image features\n",
        "\n",
        "    # zero-shot for unseen\n",
        "    tok_un = clip.tokenize([f\"a photo of a {c}\" for c in unseen_classes]).to(device)\n",
        "    unseen_feats = clip32.encode_text(tok_un).float()\n",
        "    unseen_feats = unseen_feats / unseen_feats.norm(dim=-1, keepdim=True)\n",
        "\n",
        "    # assemble in pacs_classes order\n",
        "    all_feats = []\n",
        "    s_i = 0; u_i = 0\n",
        "    for i in range(len(pacs_classes)):\n",
        "        if i in seen_idxs:\n",
        "            all_feats.append(seen_text_feats[s_i].unsqueeze(0)); s_i += 1\n",
        "        else:\n",
        "            all_feats.append(unseen_feats[u_i].unsqueeze(0)); u_i += 1\n",
        "    all_feats = torch.cat(all_feats, dim=0)\n",
        "    all_feats = all_feats / (all_feats.norm(dim=-1, keepdim=True) + 1e-10)\n",
        "    return all_feats\n",
        "\n",
        "\n",
        "# zero-shot full-class text features (baseline)\n",
        "tok_all = clip.tokenize([f\"a photo of a {c}\" for c in pacs_classes]).to(device)\n",
        "zs_all_feats = clip32.encode_text(tok_all).float(); zs_all_feats = zs_all_feats / zs_all_feats.norm(dim=-1, keepdim=True)\n",
        "\n",
        "coop_all_feats = full_text_features_from_prompt(coop_seen, seen_classes, unseen_classes)\n",
        "per_class_table(full_src_loader, zs_all_feats, coop_all_feats)"
      ],
      "metadata": {
        "id": "lVIAuevjDIu1",
        "colab": {
          "base_uri": "https://localhost:8080/"
        },
        "outputId": "79d9c0b8-387d-4914-9feb-19488bec13c7"
      },
      "execution_count": 36,
      "outputs": [
        {
          "output_type": "stream",
          "name": "stdout",
          "text": [
            "\n",
            "Per-class accuracy (Source domains P+A+C)\n",
            "Class                Seen?   Zero-shot    CoOp(seen-only)\n",
            "----------------------------------------------------------\n",
            "dog                  seen       96.45%        90.70%\n",
            "elephant             seen       98.25%        98.14%\n",
            "giraffe              seen       97.66%        97.66%\n",
            "guitar               seen       98.22%        96.44%\n",
            "horse                seen       97.51%        95.17%\n",
            "house                unseen     99.54%        99.42%\n",
            "person               unseen     97.51%        91.14%\n"
          ]
        }
      ]
    },
    {
      "cell_type": "code",
      "source": [
        "\n",
        "def tsne_2d(X, perplexity=30, seed=42):\n",
        "    \"\"\"\n",
        "    Safe t-SNE wrapper that adjusts perplexity to be valid for small N.\n",
        "    X: (N, D) array-like\n",
        "    \"\"\"\n",
        "    X = np.asarray(X, dtype=np.float32)\n",
        "    n = X.shape[0]\n",
        "    # perplexity must be < (n-1); use a conservative clamp for tiny N\n",
        "    per = max(2, min(perplexity, (n - 1) // 3 if n > 3 else 2))\n",
        "    tsne = TSNE(\n",
        "        n_components=2,\n",
        "        init=\"pca\",\n",
        "        perplexity=per,\n",
        "        learning_rate=\"auto\",\n",
        "        random_state=seed,\n",
        "    )\n",
        "    return tsne.fit_transform(X)\n",
        "\n",
        "@torch.no_grad()\n",
        "def collect_image_embeddings_for_tsne(loader, max_per_class=80):\n",
        "    \"\"\"\n",
        "    Collect up to max_per_class image embeddings per class from loader.\n",
        "    Returns: X (N,D), y (N,)\n",
        "    \"\"\"\n",
        "    counts = {i: 0 for i in range(len(pacs_classes))}\n",
        "    feats, labels = [], []\n",
        "    for imgs, lbs in loader:\n",
        "        imgs = imgs.to(device)\n",
        "        f = clip32.encode_image(imgs).float()\n",
        "        f = F.normalize(f, dim=-1).cpu().numpy()\n",
        "        lbs_np = lbs.numpy()\n",
        "        for vec, lab in zip(f, lbs_np):\n",
        "            lab = int(lab)\n",
        "            if counts[lab] < max_per_class:\n",
        "                feats.append(vec)\n",
        "                labels.append(lab)\n",
        "                counts[lab] += 1\n",
        "        if all(counts[i] >= max_per_class for i in counts):\n",
        "            break\n",
        "    return np.stack(feats, axis=0), np.array(labels)\n",
        "\n",
        "# 1) t-SNE of IMAGE embeddings (source P+A+C)\n",
        "img_X, img_y = collect_image_embeddings_for_tsne(full_src_loader, max_per_class=80)\n",
        "img_2d = tsne_2d(img_X, perplexity=30, seed=42)\n",
        "\n",
        "plt.figure(figsize=(7, 6))\n",
        "for ci in range(len(pacs_classes)):\n",
        "    m = (img_y == ci)\n",
        "    if m.any():\n",
        "        plt.scatter(img_2d[m, 0], img_2d[m, 1], s=10, alpha=0.7, label=pacs_classes[ci])\n",
        "plt.title(\"t-SNE: Image embeddings (source P + A + C)\")\n",
        "plt.legend(markerscale=2, bbox_to_anchor=(1.02, 1), loc=\"upper left\")\n",
        "plt.tight_layout()\n",
        "plt.show()\n",
        "\n",
        "# 2) t-SNE of ZERO-SHOT TEXT embeddings (generic prompt)\n",
        "zs_2d = tsne_2d(zs_all_feats.cpu().numpy(), perplexity=5, seed=7)\n",
        "plt.figure(figsize=(6, 5))\n",
        "plt.scatter(zs_2d[:, 0], zs_2d[:, 1], s=40)\n",
        "for i, cname in enumerate(pacs_classes):\n",
        "    plt.text(zs_2d[i, 0] + 0.5, zs_2d[i, 1], cname, fontsize=10)\n",
        "plt.title(\"t-SNE: Zero-shot text embeddings\")\n",
        "plt.tight_layout()\n",
        "plt.show()\n",
        "\n",
        "# 3) t-SNE of CoOp (SEEN-ONLY) TEXT embeddings\n",
        "with torch.no_grad():\n",
        "    coop_seen_feats_only = coop_seen().cpu().numpy()  # shape: [len(seen_classes), d]\n",
        "coop_2d = tsne_2d(coop_seen_feats_only, perplexity=5, seed=9)\n",
        "plt.figure(figsize=(6, 5))\n",
        "plt.scatter(coop_2d[:, 0], coop_2d[:, 1], s=40)\n",
        "for i, cname in enumerate(seen_classes):\n",
        "    plt.text(coop_2d[i, 0] + 0.5, coop_2d[i, 1], cname, fontsize=10)\n",
        "plt.title(\"t-SNE: CoOp (seen-only) text embeddings\")\n",
        "plt.tight_layout()\n",
        "plt.show()"
      ],
      "metadata": {
        "colab": {
          "base_uri": "https://localhost:8080/",
          "height": 1000
        },
        "id": "lDc1az1ZMbCb",
        "outputId": "65a8dc72-80ac-4820-b377-9d9ddb36d568"
      },
      "execution_count": 44,
      "outputs": [
        {
          "output_type": "display_data",
          "data": {
            "text/plain": [
              "<Figure size 700x600 with 1 Axes>"
            ],
            "image/png": "[encoded data removed]"
          },
          "metadata": {}
        },
        {
          "output_type": "display_data",
          "data": {
            "text/plain": [
              "<Figure size 600x500 with 1 Axes>"
            ],
            "image/png": "[encoded data removed]"
          },
          "metadata": {}
        },
        {
          "output_type": "display_data",
          "data": {
            "text/plain": [
              "<Figure size 600x500 with 1 Axes>"
            ],
            "image/png": "[encoded data removed]"
          },
          "metadata": {}
        }
      ]
    },
    {
      "cell_type": "code",
      "source": [
        "@torch.no_grad()\n",
        "def unseen_open_set_stats(loader, text_feats, unseen_idxs, thresh=0.5):\n",
        "    # returns MSP-FPR@thresh (fraction of unseen samples whose max_prob >= thresh),\n",
        "    # and avg entropy on unseen samples\n",
        "    tot=0; high_conf=0; ent_sum=0.0\n",
        "    for imgs, labels in loader:\n",
        "        imgs, labels = imgs.to(device), labels.to(device)\n",
        "        mask = [(int(l.item()) in unseen_idxs) for l in labels]\n",
        "        if not any(mask): continue\n",
        "        f = clip32.encode_image(imgs).float(); f = f / f.norm(dim=-1, keepdim=True)\n",
        "        logits = (f @ text_feats.T) * clip32.logit_scale.exp()\n",
        "        probs = F.softmax(logits, dim=1)\n",
        "        maxp, _ = probs.max(dim=1)\n",
        "        ent = -(probs * (probs+1e-12).log()).sum(dim=1)\n",
        "        for i,m in enumerate(mask):\n",
        "            if m:\n",
        "                tot += 1\n",
        "                if maxp[i].item() >= thresh: high_conf += 1\n",
        "                ent_sum += ent[i].item()\n",
        "    if tot == 0: return 0.0, 0.0\n",
        "    return high_conf/tot, ent_sum/tot\n",
        "\n",
        "@torch.no_grad()\n",
        "def msp_list(loader, text_feats, keep_label_idx=None):\n",
        "    \"\"\"Return MSP scores for samples whose labels ∈ keep_label_idx (or all if None).\"\"\"\n",
        "    scores = []\n",
        "    for imgs, labels in loader:\n",
        "        imgs, labels = imgs.to(device), labels.to(device)\n",
        "        if keep_label_idx is not None:\n",
        "            mask = torch.tensor([int(l.item()) in keep_label_idx for l in labels], device=device)\n",
        "            if not mask.any():\n",
        "                continue\n",
        "        f = clip32.encode_image(imgs).float()\n",
        "        f = f / f.norm(dim=-1, keepdim=True)\n",
        "        logits = (f @ text_feats.T) * clip32.logit_scale.exp()\n",
        "        probs = F.softmax(logits, dim=1)\n",
        "        msp = probs.max(dim=1).values\n",
        "        if keep_label_idx is not None:\n",
        "            msp = msp[mask]\n",
        "        scores.extend(msp.detach().cpu().tolist())\n",
        "    return np.array(scores, dtype=np.float32)\n",
        "\n",
        "def fpr_at_95_tpr(known_scores, unknown_scores):\n",
        "    \"\"\"\n",
        "    Pick threshold so 95% of known scores are >= t (TPR=0.95).\n",
        "    Return (FPR, threshold).\n",
        "    \"\"\"\n",
        "    if len(known_scores) == 0 or len(unknown_scores) == 0:\n",
        "        return 0.0, 0.0\n",
        "    t = np.quantile(known_scores, 0.05)  # 5th percentile of known\n",
        "    fpr = float((unknown_scores >= t).mean())\n",
        "    return fpr, float(t)"
      ],
      "metadata": {
        "id": "jdEZuedODUS8"
      },
      "execution_count": 38,
      "outputs": []
    },
    {
      "cell_type": "code",
      "source": [
        "methods = {\n",
        "    \"Zero-shot\": zs_all_feats,\n",
        "    \"CoOp(seen-only)\": coop_all_feats\n",
        "}\n",
        "results = {}\n",
        "for name, feats in methods.items():\n",
        "    per = per_class_acc(full_src_loader, feats)\n",
        "    seen_acc   = float(np.mean([per[i] for i in seen_idxs]))\n",
        "    unseen_acc = float(np.mean([per[i] for i in unseen_idxs]))\n",
        "    overall    = float(np.mean(per))\n",
        "\n",
        "    # Your fixed-threshold MSP & entropy (on unseen from sketch)\n",
        "    fpr_fixed, avg_ent = unseen_open_set_stats(sketch_loader, feats, unseen_idxs, thresh=0.5)\n",
        "\n",
        "    # FPR@95TPR using threshold picked on seen (source P+A+C)\n",
        "    known_msp   = msp_list(full_src_loader, feats, keep_label_idx=seen_idxs)\n",
        "    unknown_msp = msp_list(sketch_loader,   feats, keep_label_idx=unseen_idxs)\n",
        "    fpr95, thr = fpr_at_95_tpr(known_msp, unknown_msp)\n",
        "\n",
        "    results[name] = dict(\n",
        "        seen=seen_acc, unseen=unseen_acc, overall=overall,\n",
        "        msp_fpr=fpr_fixed, fpr95=fpr95, thr95=thr, avg_entropy=avg_ent\n",
        "    )\n",
        "\n",
        "print(\"\\n=== Open-set / Seen–Unseen (Source eval) + OOD (Sketch, unseen classes) ===\")\n",
        "for name, r in results.items():\n",
        "    print(f\"{name:16s} | Seen: {r['seen']*100:5.2f}% | Unseen: {r['unseen']*100:5.2f}% | \"\n",
        "          f\"Overall: {r['overall']*100:5.2f}% | MSP-FPR@0.5: {r['msp_fpr']*100:5.2f}% | \"\n",
        "          f\"FPR@95TPR: {r['fpr95']*100:5.2f}% (thr={r['thr95']:.3f}) | Unseen Ent: {r['avg_entropy']:.3f}\")"
      ],
      "metadata": {
        "id": "z-IKKr_hDZZU",
        "colab": {
          "base_uri": "https://localhost:8080/"
        },
        "outputId": "4b1fce9e-47fd-488a-8780-363521ba12f1"
      },
      "execution_count": 39,
      "outputs": [
        {
          "output_type": "stream",
          "name": "stdout",
          "text": [
            "\n",
            "=== Open-set / Seen–Unseen (Source eval) + OOD (Sketch, unseen classes) ===\n",
            "Zero-shot        | Seen: 97.62% | Unseen: 98.52% | Overall: 97.88% | MSP-FPR@0.5: 95.83% | FPR@95TPR: 85.42% (thr=0.717) | Unseen Ent: 0.416\n",
            "CoOp(seen-only)  | Seen: 95.62% | Unseen: 95.28% | Overall: 95.52% | MSP-FPR@0.5: 90.42% | FPR@95TPR: 90.42% (thr=0.507) | Unseen Ent: 0.508\n"
          ]
        }
      ]
    },
    {
      "cell_type": "code",
      "source": [
        "def sample_k_per_class(dataset, k, allowed_idxs):\n",
        "    # dataset is ImageFolder; iterate and pick up to k per class\n",
        "    counts = defaultdict(int); selected=[]\n",
        "    for i, t in enumerate(dataset.targets):\n",
        "        t = int(t)\n",
        "        if t in allowed_idxs and counts[t] < k:\n",
        "            selected.append(i)\n",
        "            counts[t]+=1\n",
        "        if all([counts[c]>=k for c in allowed_idxs]): break\n",
        "    return selected\n",
        "\n",
        "k=5\n",
        "sketch_ds = clip_loaders[\"sketch\"].dataset\n",
        "few_idx = sample_k_per_class(sketch_ds, k, seen_idxs)\n",
        "few_ds = Subset(sketch_ds, few_idx)\n",
        "few_loader = DataLoader(few_ds, batch_size=16, shuffle=True)"
      ],
      "metadata": {
        "id": "2V_0m0LGDfo-"
      },
      "execution_count": 40,
      "outputs": []
    },
    {
      "cell_type": "code",
      "source": [
        "@torch.no_grad()\n",
        "def eval_seen_on_sketch_full(prompt_module):\n",
        "    \"\"\"Accuracy on the entire sketch domain, restricted to seen classes.\"\"\"\n",
        "    prompt_module.eval()\n",
        "    total, correct = 0, 0\n",
        "    for imgs, labels in sketch_loader:\n",
        "        imgs, labels = imgs.to(device), labels.to(device)\n",
        "        mask = torch.tensor([int(l.item()) in seen_idxs for l in labels], device=device)\n",
        "        if not mask.any():\n",
        "            continue\n",
        "        imgs = imgs[mask]; labels = labels[mask]\n",
        "        img_feats = clip32.encode_image(imgs).float()\n",
        "        img_feats = F.normalize(img_feats, dim=-1)\n",
        "\n",
        "        # map original labels -> seen indices\n",
        "        mapped = torch.tensor([seen_map[int(l.item())] for l in labels], device=device)\n",
        "\n",
        "        text_feats = prompt_module()\n",
        "        logits = clip32.logit_scale.exp() * (img_feats @ text_feats.T)\n",
        "        preds = logits.argmax(1)\n",
        "        total += mapped.size(0)\n",
        "        correct += (preds == mapped).sum().item()\n",
        "    return 100.0 * correct / max(total, 1)\n",
        "\n",
        "\n",
        "\n",
        "coop_target = PromptLearner(seen_classes, clip32, ctx_len=4).to(device)\n",
        "with torch.no_grad():\n",
        "    coop_target.ctx.copy_(coop_seen.ctx)  # init from source CoOp\n",
        "\n",
        "# fine-tune ctx only\n",
        "seen_map = {orig: i for i, orig in enumerate(seen_idxs)}\n",
        "opt = torch.optim.Adam([coop_target.ctx], lr=3e-4, weight_decay=5e-5)\n",
        "epochs_ft = 5\n",
        "\n",
        "for ep in range(epochs_ft):\n",
        "    coop_target.train()\n",
        "    tot, corr = 0, 0\n",
        "    for imgs, labels in few_loader:\n",
        "        imgs, labels = imgs.to(device), labels.to(device)\n",
        "        mapped = torch.tensor([seen_map[int(l.item())] for l in labels], device=device)\n",
        "\n",
        "        with torch.no_grad():\n",
        "            img_feats = clip32.encode_image(imgs).float()\n",
        "        img_feats = F.normalize(img_feats, dim=-1)\n",
        "\n",
        "        text_feats = coop_target()\n",
        "        logits = clip32.logit_scale.exp() * (img_feats @ text_feats.T)\n",
        "        loss = F.cross_entropy(logits, mapped, label_smoothing=0.1)\n",
        "\n",
        "        opt.zero_grad(set_to_none=True)\n",
        "        loss.backward()\n",
        "        torch.nn.utils.clip_grad_norm_([coop_target.ctx], 1.0)\n",
        "        opt.step()\n",
        "\n",
        "        preds = logits.argmax(1)\n",
        "        tot += mapped.size(0); corr += (preds == mapped).sum().item()\n",
        "\n",
        "    tr_acc = 100.0 * corr / max(tot, 1)\n",
        "    val_acc = eval_seen_on_sketch_full(coop_target)\n",
        "    print(f\"Few-shot ep {ep+1}/{epochs_ft} | Train acc (fewset): {tr_acc:.2f}% | \"\n",
        "          f\"Sketch(seen) acc (full): {val_acc:.2f}%\")\n",
        "\n",
        "# drift summary\n",
        "src_ctx = coop_seen.ctx.detach().reshape(-1).double().cpu()\n",
        "tgt_ctx = coop_target.ctx.detach().reshape(-1).double().cpu()\n",
        "cos_sim = F.cosine_similarity(src_ctx, tgt_ctx, dim=0).item()\n",
        "rel_l2  = (tgt_ctx - src_ctx).norm().item() / (src_ctx.norm().item() + 1e-12)\n",
        "print(f\"\\nCosine similarity (source vs few-shot target ctx): {cos_sim:.6f}\")\n",
        "print(f\"Relative L2 change in ctx: {rel_l2:.6e}\")"
      ],
      "metadata": {
        "id": "1jnsADfWDo1Y",
        "colab": {
          "base_uri": "https://localhost:8080/"
        },
        "outputId": "a77073c7-4f1b-44a8-b4f4-bbd825e4160c"
      },
      "execution_count": 42,
      "outputs": [
        {
          "output_type": "stream",
          "name": "stdout",
          "text": [
            "Few-shot ep 1/5 | Train acc (fewset): 92.00% | Sketch(seen) acc (full): 85.77%\n",
            "Few-shot ep 2/5 | Train acc (fewset): 92.00% | Sketch(seen) acc (full): 86.36%\n",
            "Few-shot ep 3/5 | Train acc (fewset): 92.00% | Sketch(seen) acc (full): 86.69%\n",
            "Few-shot ep 4/5 | Train acc (fewset): 100.00% | Sketch(seen) acc (full): 86.47%\n",
            "Few-shot ep 5/5 | Train acc (fewset): 100.00% | Sketch(seen) acc (full): 86.15%\n",
            "\n",
            "Cosine similarity (source vs few-shot target ctx): 0.996169\n",
            "Relative L2 change in ctx: 8.767903e-02\n"
          ]
        }
      ]
    },
    {
      "cell_type": "code",
      "source": [],
      "metadata": {
        "id": "7zqonGnzh-hx"
      },
      "execution_count": 41,
      "outputs": []
    }
  ]
}